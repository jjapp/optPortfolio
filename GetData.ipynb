{
 "cells": [
  {
   "cell_type": "code",
   "execution_count": null,
   "metadata": {},
   "outputs": [],
   "source": [
    "import pandas as pd\n",
    "import quandl\n",
    "from settings import quandl_code\n",
    "\n",
    "quandl.ApiConfig.api_key = quandl_code\n",
    "df=quandl.get('EOD/JIGB', start_date='2017-12-26', end_date='2018-12-26')\n",
    "interest=quandl.get(\"FED/RILSPDEPM03_N_B\", authtoken=quandl_code)\n",
    "vix=quandl.get('SCF/CBOE_VX1_ON', start_date='2017-12-24', end_date='2018-12-26')\n"
   ]
  }
 ],
 "metadata": {
  "kernelspec": {
   "display_name": "Python 3",
   "language": "python",
   "name": "python3"
  },
  "language_info": {
   "codemirror_mode": {
    "name": "ipython",
    "version": 3
   },
   "file_extension": ".py",
   "mimetype": "text/x-python",
   "name": "python",
   "nbconvert_exporter": "python",
   "pygments_lexer": "ipython3",
   "version": "3.7.0"
  }
 },
 "nbformat": 4,
 "nbformat_minor": 2
}

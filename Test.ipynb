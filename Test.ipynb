{
 "cells": [
  {
   "cell_type": "code",
   "execution_count": 25,
   "metadata": {},
   "outputs": [],
   "source": [
    "import backtest.options as opt\n",
    "from datetime import datetime, timedelta\n",
    "import pandas as pd\n"
   ]
  },
  {
   "cell_type": "code",
   "execution_count": 2,
   "metadata": {},
   "outputs": [],
   "source": [
    "exdate=date(2019, 12, 18)\n",
    "today=date.today()\n",
    "volatility=30\n",
    "strike=100\n",
    "stock=100\n",
    "optiontype=\"Call\"\n",
    "optiontype2=\"Put\"\n",
    "interest=5\n",
    "direction=1\n",
    "direction2=-1\n"
   ]
  },
  {
   "cell_type": "code",
   "execution_count": 3,
   "metadata": {},
   "outputs": [],
   "source": [
    "x=opt.Option(exdate, volatility, strike, stock, optiontype, interest, direction)\n",
    "y=opt.Option(exdate, volatility, strike, stock, optiontype2, interest, direction2)"
   ]
  },
  {
   "cell_type": "code",
   "execution_count": 4,
   "metadata": {},
   "outputs": [],
   "source": [
    "call_greeks=(x.get_greeks(today, 100, 25))\n",
    "put_greeks=(y.get_greeks(today, 100, 25))"
   ]
  },
  {
   "cell_type": "code",
   "execution_count": 5,
   "metadata": {},
   "outputs": [],
   "source": [
    "pos1=[x,y]\n",
    "\n",
    "options_pos=opt.Position(pos1)"
   ]
  },
  {
   "cell_type": "code",
   "execution_count": 6,
   "metadata": {},
   "outputs": [
    {
     "name": "stdout",
     "output_type": "stream",
     "text": [
      "{'price': 470.7509606587947, 'theta': -1.305376580731672, 'delta': 100.0}\n"
     ]
    }
   ],
   "source": [
    "greeks=options_pos.getPosGreeks(today, 100, 25)\n",
    "\n",
    "print (greeks)"
   ]
  },
  {
   "cell_type": "code",
   "execution_count": 7,
   "metadata": {},
   "outputs": [],
   "source": [
    "greeks=options_pos.getPosGreeks(today, 150, 25)"
   ]
  },
  {
   "cell_type": "code",
   "execution_count": 8,
   "metadata": {},
   "outputs": [
    {
     "name": "stdout",
     "output_type": "stream",
     "text": [
      "{'price': 5470.750960658795, 'theta': -1.305376580731672, 'delta': 100.0}\n"
     ]
    }
   ],
   "source": [
    "print (greeks)"
   ]
  },
  {
   "cell_type": "code",
   "execution_count": 9,
   "metadata": {},
   "outputs": [
    {
     "name": "stdout",
     "output_type": "stream",
     "text": [
      "{'price': -4529.249039341205, 'theta': -1.305376580731672, 'delta': 100.0}\n"
     ]
    }
   ],
   "source": [
    "greeks=options_pos.getPosGreeks(today, 50,45)\n",
    "print (greeks)"
   ]
  },
  {
   "cell_type": "code",
   "execution_count": 10,
   "metadata": {},
   "outputs": [],
   "source": [
    "x=opt.Option(exdate, volatility, strike, stock, optiontype, interest, direction)\n",
    "y=opt.Option(exdate, volatility, strike, stock, optiontype2, interest, direction2)\n",
    "\n",
    "a=opt.Option(exdate, volatility, strike, stock, optiontype, interest, direction)\n",
    "b=opt.Option(exdate, volatility, strike, stock, optiontype2, interest, direction2)"
   ]
  },
  {
   "cell_type": "code",
   "execution_count": 11,
   "metadata": {},
   "outputs": [],
   "source": [
    "pos1=[x,y]\n",
    "pos2=[a,b]\n",
    "\n",
    "options_pos=opt.Position(pos1)\n",
    "options_pos2=opt.Position(pos2)"
   ]
  },
  {
   "cell_type": "code",
   "execution_count": 12,
   "metadata": {},
   "outputs": [],
   "source": [
    "inv=opt.Inventory()\n",
    "\n",
    "inv.add_position(options_pos)\n",
    "inv.add_position(options_pos2)"
   ]
  },
  {
   "cell_type": "code",
   "execution_count": 13,
   "metadata": {},
   "outputs": [
    {
     "name": "stdout",
     "output_type": "stream",
     "text": [
      "{'price': 10941.501921317587, 'delta': 200.0, 'theta': -2.6107531614633444}\n"
     ]
    }
   ],
   "source": [
    "print (inv.get_inventory_stats(today, 150, 45))"
   ]
  },
  {
   "cell_type": "code",
   "execution_count": 39,
   "metadata": {},
   "outputs": [
    {
     "name": "stdout",
     "output_type": "stream",
     "text": [
      "152.53999299999998\n"
     ]
    },
    {
     "data": {
      "text/html": [
       "<div>\n",
       "<style scoped>\n",
       "    .dataframe tbody tr th:only-of-type {\n",
       "        vertical-align: middle;\n",
       "    }\n",
       "\n",
       "    .dataframe tbody tr th {\n",
       "        vertical-align: top;\n",
       "    }\n",
       "\n",
       "    .dataframe thead th {\n",
       "        text-align: right;\n",
       "    }\n",
       "</style>\n",
       "<table border=\"1\" class=\"dataframe\">\n",
       "  <thead>\n",
       "    <tr style=\"text-align: right;\">\n",
       "      <th></th>\n",
       "      <th>Date</th>\n",
       "      <th>Close</th>\n",
       "      <th>return</th>\n",
       "      <th>Settle</th>\n",
       "      <th>Value</th>\n",
       "      <th>portfolio</th>\n",
       "    </tr>\n",
       "  </thead>\n",
       "  <tbody>\n",
       "    <tr>\n",
       "      <th>0</th>\n",
       "      <td>2007-05-21</td>\n",
       "      <td>152.539993</td>\n",
       "      <td>NaN</td>\n",
       "      <td>14.90</td>\n",
       "      <td>5.35</td>\n",
       "      <td>100000</td>\n",
       "    </tr>\n",
       "    <tr>\n",
       "      <th>1</th>\n",
       "      <td>2007-05-22</td>\n",
       "      <td>152.419998</td>\n",
       "      <td>-0.000787</td>\n",
       "      <td>14.99</td>\n",
       "      <td>5.35</td>\n",
       "      <td></td>\n",
       "    </tr>\n",
       "    <tr>\n",
       "      <th>2</th>\n",
       "      <td>2007-05-23</td>\n",
       "      <td>152.440002</td>\n",
       "      <td>0.000131</td>\n",
       "      <td>14.92</td>\n",
       "      <td>5.35</td>\n",
       "      <td></td>\n",
       "    </tr>\n",
       "    <tr>\n",
       "      <th>3</th>\n",
       "      <td>2007-05-24</td>\n",
       "      <td>151.059998</td>\n",
       "      <td>-0.009094</td>\n",
       "      <td>15.05</td>\n",
       "      <td>5.35</td>\n",
       "      <td></td>\n",
       "    </tr>\n",
       "    <tr>\n",
       "      <th>4</th>\n",
       "      <td>2007-05-25</td>\n",
       "      <td>151.690002</td>\n",
       "      <td>0.004162</td>\n",
       "      <td>15.10</td>\n",
       "      <td>5.35</td>\n",
       "      <td></td>\n",
       "    </tr>\n",
       "  </tbody>\n",
       "</table>\n",
       "</div>"
      ],
      "text/plain": [
       "         Date       Close    return  Settle  Value portfolio\n",
       "0  2007-05-21  152.539993       NaN   14.90   5.35    100000\n",
       "1  2007-05-22  152.419998 -0.000787   14.99   5.35          \n",
       "2  2007-05-23  152.440002  0.000131   14.92   5.35          \n",
       "3  2007-05-24  151.059998 -0.009094   15.05   5.35          \n",
       "4  2007-05-25  151.690002  0.004162   15.10   5.35          "
      ]
     },
     "execution_count": 39,
     "metadata": {},
     "output_type": "execute_result"
    }
   ],
   "source": [
    "df=pd.read_csv('time_series.csv')\n",
    "df['portfolio']=''\n",
    "print (df.iloc[0]['Close'])\n",
    "df.at[0,'portfolio']=100000\n",
    "\n",
    "df.head()"
   ]
  },
  {
   "cell_type": "code",
   "execution_count": 31,
   "metadata": {},
   "outputs": [
    {
     "ename": "TypeError",
     "evalue": "an integer is required (got type str)",
     "output_type": "error",
     "traceback": [
      "\u001b[0;31m---------------------------------------------------------------------------\u001b[0m",
      "\u001b[0;31mTypeError\u001b[0m                                 Traceback (most recent call last)",
      "\u001b[0;32m<ipython-input-31-9ef15c232b68>\u001b[0m in \u001b[0;36m<module>\u001b[0;34m()\u001b[0m\n\u001b[1;32m      1\u001b[0m \u001b[0mx\u001b[0m\u001b[0;34m=\u001b[0m\u001b[0mdf\u001b[0m\u001b[0;34m.\u001b[0m\u001b[0miloc\u001b[0m\u001b[0;34m[\u001b[0m\u001b[0;36m0\u001b[0m\u001b[0;34m]\u001b[0m\u001b[0;34m[\u001b[0m\u001b[0;34m'Date'\u001b[0m\u001b[0;34m]\u001b[0m\u001b[0;34m\u001b[0m\u001b[0m\n\u001b[0;32m----> 2\u001b[0;31m \u001b[0mtoday\u001b[0m\u001b[0;34m=\u001b[0m\u001b[0mdate\u001b[0m\u001b[0;34m(\u001b[0m\u001b[0mx\u001b[0m\u001b[0;34m)\u001b[0m\u001b[0;34m\u001b[0m\u001b[0m\n\u001b[0m\u001b[1;32m      3\u001b[0m \u001b[0mtoday\u001b[0m\u001b[0;34m\u001b[0m\u001b[0m\n",
      "\u001b[0;31mTypeError\u001b[0m: an integer is required (got type str)"
     ]
    }
   ],
   "source": [
    "x=df.iloc[0]['Date']\n",
    "today=date(x)\n",
    "today"
   ]
  },
  {
   "cell_type": "code",
   "execution_count": 27,
   "metadata": {},
   "outputs": [
    {
     "name": "stdout",
     "output_type": "stream",
     "text": [
      "2019-07-19\n"
     ]
    }
   ],
   "source": [
    "today=date(2018, 12, 31)\n",
    "\n",
    "expiration=today+timedelta(200)\n",
    "\n",
    "print (expiration)"
   ]
  },
  {
   "cell_type": "code",
   "execution_count": 28,
   "metadata": {},
   "outputs": [],
   "source": [
    "def getTargetDelta(x, base=100):\n",
    "    '''rounds current stock price to nearest 100 share increment and then divides \n",
    "    by 100 to get total number of artificial positions needed.'''\n",
    "    return int(base * round(float(x)/base))/100\n"
   ]
  },
  {
   "cell_type": "code",
   "execution_count": 30,
   "metadata": {},
   "outputs": [
    {
     "data": {
      "text/plain": [
       "7.0"
      ]
     },
     "execution_count": 30,
     "metadata": {},
     "output_type": "execute_result"
    }
   ],
   "source": [
    "delta=100000/152\n",
    "\n",
    "y=getTargetDelta(delta)\n",
    "\n",
    "delta\n",
    "y"
   ]
  },
  {
   "cell_type": "code",
   "execution_count": 34,
   "metadata": {},
   "outputs": [
    {
     "name": "stdout",
     "output_type": "stream",
     "text": [
      "2017-12-18\n"
     ]
    }
   ],
   "source": [
    "import datetime\n",
    "y=datetime.datetime.strptime('2017-12-18', '%Y-%m-%d').date()\n",
    "\n",
    "print (y)"
   ]
  },
  {
   "cell_type": "code",
   "execution_count": 38,
   "metadata": {},
   "outputs": [
    {
     "data": {
      "text/plain": [
       "712"
      ]
     },
     "execution_count": 38,
     "metadata": {},
     "output_type": "execute_result"
    }
   ],
   "source": [
    "x=date.today()\n",
    "y=date(2020,12,12)\n",
    "\n",
    "z=(y-x).days\n",
    "z"
   ]
  },
  {
   "cell_type": "code",
   "execution_count": null,
   "metadata": {},
   "outputs": [],
   "source": []
  }
 ],
 "metadata": {
  "kernelspec": {
   "display_name": "Python 3",
   "language": "python",
   "name": "python3"
  },
  "language_info": {
   "codemirror_mode": {
    "name": "ipython",
    "version": 3
   },
   "file_extension": ".py",
   "mimetype": "text/x-python",
   "name": "python",
   "nbconvert_exporter": "python",
   "pygments_lexer": "ipython3",
   "version": "3.7.0"
  }
 },
 "nbformat": 4,
 "nbformat_minor": 2
}
